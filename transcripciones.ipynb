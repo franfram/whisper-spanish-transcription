{
  "cells": [
    {
      "cell_type": "markdown",
      "metadata": {
        "id": "view-in-github",
        "colab_type": "text"
      },
      "source": [
        "<a href=\"https://colab.research.google.com/github/franfram/whisper-spanish-transcription/blob/main/transcripciones.ipynb\" target=\"_parent\"><img src=\"https://colab.research.google.com/assets/colab-badge.svg\" alt=\"Open In Colab\"/></a>"
      ]
    },
    {
      "cell_type": "markdown",
      "metadata": {
        "id": "v5hvo8QWN-a9"
      },
      "source": [
        "# Installing Whisper\n",
        "\n",
        "The commands below will install the Python packages needed to use Whisper models and evaluate the transcription results."
      ]
    },
    {
      "cell_type": "code",
      "execution_count": 58,
      "metadata": {
        "id": "ZsJUxc0aRsAf",
        "outputId": "e6213499-be5b-49f0-cf11-de67705d9824",
        "colab": {
          "base_uri": "https://localhost:8080/"
        }
      },
      "outputs": [
        {
          "output_type": "stream",
          "name": "stdout",
          "text": [
            "Looking in indexes: https://pypi.org/simple, https://us-python.pkg.dev/colab-wheels/public/simple/\n",
            "Collecting git+https://github.com/openai/whisper.git\n",
            "  Cloning https://github.com/openai/whisper.git to /tmp/pip-req-build-q3uuvmh6\n",
            "  Running command git clone --filter=blob:none --quiet https://github.com/openai/whisper.git /tmp/pip-req-build-q3uuvmh6\n",
            "  Resolved https://github.com/openai/whisper.git to commit 4e635c66441dfae3c6c72365f802293afffca3ef\n",
            "  Preparing metadata (setup.py) ... \u001b[?25l\u001b[?25hdone\n",
            "Requirement already satisfied: numpy in /usr/local/lib/python3.8/dist-packages (from openai-whisper==20230124) (1.21.6)\n",
            "Requirement already satisfied: torch in /usr/local/lib/python3.8/dist-packages (from openai-whisper==20230124) (1.13.1+cu116)\n",
            "Requirement already satisfied: tqdm in /usr/local/lib/python3.8/dist-packages (from openai-whisper==20230124) (4.64.1)\n",
            "Requirement already satisfied: more-itertools in /usr/local/lib/python3.8/dist-packages (from openai-whisper==20230124) (9.0.0)\n",
            "Requirement already satisfied: transformers>=4.19.0 in /usr/local/lib/python3.8/dist-packages (from openai-whisper==20230124) (4.26.0)\n",
            "Requirement already satisfied: ffmpeg-python==0.2.0 in /usr/local/lib/python3.8/dist-packages (from openai-whisper==20230124) (0.2.0)\n",
            "Requirement already satisfied: future in /usr/local/lib/python3.8/dist-packages (from ffmpeg-python==0.2.0->openai-whisper==20230124) (0.16.0)\n",
            "Requirement already satisfied: tokenizers!=0.11.3,<0.14,>=0.11.1 in /usr/local/lib/python3.8/dist-packages (from transformers>=4.19.0->openai-whisper==20230124) (0.13.2)\n",
            "Requirement already satisfied: huggingface-hub<1.0,>=0.11.0 in /usr/local/lib/python3.8/dist-packages (from transformers>=4.19.0->openai-whisper==20230124) (0.11.1)\n",
            "Requirement already satisfied: requests in /usr/local/lib/python3.8/dist-packages (from transformers>=4.19.0->openai-whisper==20230124) (2.25.1)\n",
            "Requirement already satisfied: packaging>=20.0 in /usr/local/lib/python3.8/dist-packages (from transformers>=4.19.0->openai-whisper==20230124) (21.3)\n",
            "Requirement already satisfied: pyyaml>=5.1 in /usr/local/lib/python3.8/dist-packages (from transformers>=4.19.0->openai-whisper==20230124) (6.0)\n",
            "Requirement already satisfied: regex!=2019.12.17 in /usr/local/lib/python3.8/dist-packages (from transformers>=4.19.0->openai-whisper==20230124) (2022.6.2)\n",
            "Requirement already satisfied: filelock in /usr/local/lib/python3.8/dist-packages (from transformers>=4.19.0->openai-whisper==20230124) (3.9.0)\n",
            "Requirement already satisfied: typing-extensions in /usr/local/lib/python3.8/dist-packages (from torch->openai-whisper==20230124) (4.4.0)\n",
            "Requirement already satisfied: pyparsing!=3.0.5,>=2.0.2 in /usr/local/lib/python3.8/dist-packages (from packaging>=20.0->transformers>=4.19.0->openai-whisper==20230124) (3.0.9)\n",
            "Requirement already satisfied: certifi>=2017.4.17 in /usr/local/lib/python3.8/dist-packages (from requests->transformers>=4.19.0->openai-whisper==20230124) (2022.12.7)\n",
            "Requirement already satisfied: urllib3<1.27,>=1.21.1 in /usr/local/lib/python3.8/dist-packages (from requests->transformers>=4.19.0->openai-whisper==20230124) (1.24.3)\n",
            "Requirement already satisfied: chardet<5,>=3.0.2 in /usr/local/lib/python3.8/dist-packages (from requests->transformers>=4.19.0->openai-whisper==20230124) (4.0.0)\n",
            "Requirement already satisfied: idna<3,>=2.5 in /usr/local/lib/python3.8/dist-packages (from requests->transformers>=4.19.0->openai-whisper==20230124) (2.10)\n",
            "Looking in indexes: https://pypi.org/simple, https://us-python.pkg.dev/colab-wheels/public/simple/\n",
            "Requirement already satisfied: jiwer in /usr/local/lib/python3.8/dist-packages (2.5.1)\n",
            "Requirement already satisfied: levenshtein==0.20.2 in /usr/local/lib/python3.8/dist-packages (from jiwer) (0.20.2)\n",
            "Requirement already satisfied: rapidfuzz<3.0.0,>=2.3.0 in /usr/local/lib/python3.8/dist-packages (from levenshtein==0.20.2->jiwer) (2.13.7)\n",
            "Looking in indexes: https://pypi.org/simple, https://us-python.pkg.dev/colab-wheels/public/simple/\n",
            "Requirement already satisfied: unidecode in /usr/local/lib/python3.8/dist-packages (1.3.6)\n",
            "rm: cannot remove 'sample_data': No such file or directory\n"
          ]
        }
      ],
      "source": [
        "! pip install git+https://github.com/openai/whisper.git\n",
        "! pip install jiwer\n",
        "! pip install unidecode\n",
        "! rm -r sample_data"
      ]
    },
    {
      "cell_type": "code",
      "source": [
        "import os.path\n",
        "from os import path\n",
        "\n",
        "if path.exists(\"sample_data\"):\n",
        "  !rm -r sample_data"
      ],
      "metadata": {
        "id": "FEqTQanYq3FI"
      },
      "execution_count": null,
      "outputs": []
    },
    {
      "cell_type": "code",
      "source": [
        "# import required module\n",
        "import unidecode\n",
        "import whisper\n",
        "\n",
        "def change_name(data):\n",
        "  new_name = []\n",
        "  for name in range(len(data)):\n",
        "    string = unidecode.unidecode(data[name])\n",
        "    string = string.replace(\" \", \"-\")\n",
        "    new_name.append(string)\n",
        "  \n",
        "  return new_name\n",
        "\n",
        "\n",
        "new_names = change_name(data)\n",
        "new_names\n"
      ],
      "metadata": {
        "colab": {
          "base_uri": "https://localhost:8080/"
        },
        "id": "PavVUKqDX6n0",
        "outputId": "a5fc09ef-6fd8-41d2-9c83-10fffc237290"
      },
      "execution_count": null,
      "outputs": [
        {
          "output_type": "execute_result",
          "data": {
            "text/plain": [
              "[\"'Audio-Sofia-Dozzis_.mp3'\"]"
            ]
          },
          "metadata": {},
          "execution_count": 12
        }
      ]
    },
    {
      "cell_type": "code",
      "source": [
        "import os\n",
        "filesRename = !ls\n",
        "folder = r\".\"\n",
        "\n",
        "# type(os.path.join(filesRename[0]))\n",
        "os.rename(os.path.join(folder, filesRename[0]), \"hello\")\n",
        "\n",
        "os.path.join(folder, filesRename[0])\n",
        "# for file in range(len(filesRename)): \n",
        "#   old_name = filesRename[file]\n",
        "#   new_name = new_names[file]\n",
        "\n",
        "#   os.rename(old_name, new_name)\n",
        "\n",
        "# for file in os.listdir(folder):\n",
        "#   print(file)\n",
        "\n",
        "\n",
        "\n",
        "# Iterate\n",
        "# for file in os.listdir(folder):\n",
        "# \t# Checking if the file is present in the list\n",
        "# \tif file in filesRename:\n",
        "# \t\toldName = os.path.join(folder, file)\n",
        "# \t\tn = os.path.splitext(file)[0]\n",
        "\n",
        "# \t\tb = n + '_new' + '.txt'\n",
        "# \t\tnewName = os.path.join(folder, b)\n",
        "\n",
        "# \t\t# Rename the file\n",
        "# \t\tos.rename(oldName, newName)\n",
        "\n",
        "# res = os.listdir(folder)\n",
        "# print(res)"
      ],
      "metadata": {
        "colab": {
          "base_uri": "https://localhost:8080/",
          "height": 235
        },
        "id": "_8n-YVD8WnDE",
        "outputId": "38979339-c28e-499b-a5de-365af4c99516"
      },
      "execution_count": null,
      "outputs": [
        {
          "output_type": "error",
          "ename": "FileNotFoundError",
          "evalue": "ignored",
          "traceback": [
            "\u001b[0;31m---------------------------------------------------------------------------\u001b[0m",
            "\u001b[0;31mFileNotFoundError\u001b[0m                         Traceback (most recent call last)",
            "\u001b[0;32m<ipython-input-37-e5c02d40e55d>\u001b[0m in \u001b[0;36m<module>\u001b[0;34m\u001b[0m\n\u001b[1;32m      4\u001b[0m \u001b[0;34m\u001b[0m\u001b[0m\n\u001b[1;32m      5\u001b[0m \u001b[0;31m# type(os.path.join(filesRename[0]))\u001b[0m\u001b[0;34m\u001b[0m\u001b[0;34m\u001b[0m\u001b[0;34m\u001b[0m\u001b[0m\n\u001b[0;32m----> 6\u001b[0;31m \u001b[0mos\u001b[0m\u001b[0;34m.\u001b[0m\u001b[0mrename\u001b[0m\u001b[0;34m(\u001b[0m\u001b[0mos\u001b[0m\u001b[0;34m.\u001b[0m\u001b[0mpath\u001b[0m\u001b[0;34m.\u001b[0m\u001b[0mjoin\u001b[0m\u001b[0;34m(\u001b[0m\u001b[0mfolder\u001b[0m\u001b[0;34m,\u001b[0m \u001b[0mfilesRename\u001b[0m\u001b[0;34m[\u001b[0m\u001b[0;36m0\u001b[0m\u001b[0;34m]\u001b[0m\u001b[0;34m)\u001b[0m\u001b[0;34m,\u001b[0m \u001b[0;34m\"hello\"\u001b[0m\u001b[0;34m)\u001b[0m\u001b[0;34m\u001b[0m\u001b[0;34m\u001b[0m\u001b[0m\n\u001b[0m\u001b[1;32m      7\u001b[0m \u001b[0;34m\u001b[0m\u001b[0m\n\u001b[1;32m      8\u001b[0m \u001b[0mos\u001b[0m\u001b[0;34m.\u001b[0m\u001b[0mpath\u001b[0m\u001b[0;34m.\u001b[0m\u001b[0mjoin\u001b[0m\u001b[0;34m(\u001b[0m\u001b[0mfolder\u001b[0m\u001b[0;34m,\u001b[0m \u001b[0mfilesRename\u001b[0m\u001b[0;34m[\u001b[0m\u001b[0;36m0\u001b[0m\u001b[0;34m]\u001b[0m\u001b[0;34m)\u001b[0m\u001b[0;34m\u001b[0m\u001b[0;34m\u001b[0m\u001b[0m\n",
            "\u001b[0;31mFileNotFoundError\u001b[0m: [Errno 2] No such file or directory: \"./'Audio Sofía Dozzis_.mp3'\" -> 'hello'"
          ]
        }
      ]
    },
    {
      "cell_type": "code",
      "source": [
        "# import required module\n",
        "import unidecode\n",
        "import whisper\n",
        "\n",
        "def change_name(data):\n",
        "  new_name = []\n",
        "  for name in range(len(data)):\n",
        "    string = unidecode.unidecode(data[name])\n",
        "    string = string.replace(\" \", \"-\")\n",
        "    new_name.append(string)\n",
        "  \n",
        "  return new_name\n",
        "\n",
        "\n",
        "new_names = change_name(data)\n",
        "new_names\n",
        "\n",
        "model = whisper.load_model(\"small\")   \n",
        "\n",
        "transcriptions = []\n",
        "\n",
        "def transcribe_files(new_names):\n",
        "  transcriptions = []\n",
        "  for name in range(len(new_names)):\n",
        "    transcriptions.append(model.transcribe(new_names[name]))\n",
        "  return transcriptions \n",
        "\n",
        "\n",
        "test = transcribe_files(new_names)\n",
        "\n"
      ],
      "metadata": {
        "id": "hfjtq_f-sCI0",
        "colab": {
          "base_uri": "https://localhost:8080/",
          "height": 814
        },
        "outputId": "c1487486-536d-4fe0-a756-4c019f115b68"
      },
      "execution_count": null,
      "outputs": [
        {
          "output_type": "error",
          "ename": "RuntimeError",
          "evalue": "ignored",
          "traceback": [
            "\u001b[0;31m---------------------------------------------------------------------------\u001b[0m",
            "\u001b[0;31mError\u001b[0m                                     Traceback (most recent call last)",
            "\u001b[0;32m/usr/local/lib/python3.8/dist-packages/whisper/audio.py\u001b[0m in \u001b[0;36mload_audio\u001b[0;34m(file, sr)\u001b[0m\n\u001b[1;32m     41\u001b[0m         out, _ = (\n\u001b[0;32m---> 42\u001b[0;31m             \u001b[0mffmpeg\u001b[0m\u001b[0;34m.\u001b[0m\u001b[0minput\u001b[0m\u001b[0;34m(\u001b[0m\u001b[0mfile\u001b[0m\u001b[0;34m,\u001b[0m \u001b[0mthreads\u001b[0m\u001b[0;34m=\u001b[0m\u001b[0;36m0\u001b[0m\u001b[0;34m)\u001b[0m\u001b[0;34m\u001b[0m\u001b[0;34m\u001b[0m\u001b[0m\n\u001b[0m\u001b[1;32m     43\u001b[0m             \u001b[0;34m.\u001b[0m\u001b[0moutput\u001b[0m\u001b[0;34m(\u001b[0m\u001b[0;34m\"-\"\u001b[0m\u001b[0;34m,\u001b[0m \u001b[0mformat\u001b[0m\u001b[0;34m=\u001b[0m\u001b[0;34m\"s16le\"\u001b[0m\u001b[0;34m,\u001b[0m \u001b[0macodec\u001b[0m\u001b[0;34m=\u001b[0m\u001b[0;34m\"pcm_s16le\"\u001b[0m\u001b[0;34m,\u001b[0m \u001b[0mac\u001b[0m\u001b[0;34m=\u001b[0m\u001b[0;36m1\u001b[0m\u001b[0;34m,\u001b[0m \u001b[0mar\u001b[0m\u001b[0;34m=\u001b[0m\u001b[0msr\u001b[0m\u001b[0;34m)\u001b[0m\u001b[0;34m\u001b[0m\u001b[0;34m\u001b[0m\u001b[0m\n",
            "\u001b[0;32m/usr/local/lib/python3.8/dist-packages/ffmpeg/_run.py\u001b[0m in \u001b[0;36mrun\u001b[0;34m(stream_spec, cmd, capture_stdout, capture_stderr, input, quiet, overwrite_output)\u001b[0m\n\u001b[1;32m    324\u001b[0m     \u001b[0;32mif\u001b[0m \u001b[0mretcode\u001b[0m\u001b[0;34m:\u001b[0m\u001b[0;34m\u001b[0m\u001b[0;34m\u001b[0m\u001b[0m\n\u001b[0;32m--> 325\u001b[0;31m         \u001b[0;32mraise\u001b[0m \u001b[0mError\u001b[0m\u001b[0;34m(\u001b[0m\u001b[0;34m'ffmpeg'\u001b[0m\u001b[0;34m,\u001b[0m \u001b[0mout\u001b[0m\u001b[0;34m,\u001b[0m \u001b[0merr\u001b[0m\u001b[0;34m)\u001b[0m\u001b[0;34m\u001b[0m\u001b[0;34m\u001b[0m\u001b[0m\n\u001b[0m\u001b[1;32m    326\u001b[0m     \u001b[0;32mreturn\u001b[0m \u001b[0mout\u001b[0m\u001b[0;34m,\u001b[0m \u001b[0merr\u001b[0m\u001b[0;34m\u001b[0m\u001b[0;34m\u001b[0m\u001b[0m\n",
            "\u001b[0;31mError\u001b[0m: ffmpeg error (see stderr output for detail)",
            "\nThe above exception was the direct cause of the following exception:\n",
            "\u001b[0;31mRuntimeError\u001b[0m                              Traceback (most recent call last)",
            "\u001b[0;32m<ipython-input-11-d1304579b29b>\u001b[0m in \u001b[0;36m<module>\u001b[0;34m\u001b[0m\n\u001b[1;32m     27\u001b[0m \u001b[0;34m\u001b[0m\u001b[0m\n\u001b[1;32m     28\u001b[0m \u001b[0;34m\u001b[0m\u001b[0m\n\u001b[0;32m---> 29\u001b[0;31m \u001b[0mtest\u001b[0m \u001b[0;34m=\u001b[0m \u001b[0mtranscribe_files\u001b[0m\u001b[0;34m(\u001b[0m\u001b[0mnew_names\u001b[0m\u001b[0;34m)\u001b[0m\u001b[0;34m\u001b[0m\u001b[0;34m\u001b[0m\u001b[0m\n\u001b[0m\u001b[1;32m     30\u001b[0m \u001b[0;34m\u001b[0m\u001b[0m\n\u001b[1;32m     31\u001b[0m \u001b[0;31m# model = whisper.load_model(\"small\")\u001b[0m\u001b[0;34m\u001b[0m\u001b[0;34m\u001b[0m\u001b[0;34m\u001b[0m\u001b[0m\n",
            "\u001b[0;32m<ipython-input-11-d1304579b29b>\u001b[0m in \u001b[0;36mtranscribe_files\u001b[0;34m(new_names)\u001b[0m\n\u001b[1;32m     23\u001b[0m   \u001b[0mtranscriptions\u001b[0m \u001b[0;34m=\u001b[0m \u001b[0;34m[\u001b[0m\u001b[0;34m]\u001b[0m\u001b[0;34m\u001b[0m\u001b[0;34m\u001b[0m\u001b[0m\n\u001b[1;32m     24\u001b[0m   \u001b[0;32mfor\u001b[0m \u001b[0mname\u001b[0m \u001b[0;32min\u001b[0m \u001b[0mrange\u001b[0m\u001b[0;34m(\u001b[0m\u001b[0mlen\u001b[0m\u001b[0;34m(\u001b[0m\u001b[0mnew_names\u001b[0m\u001b[0;34m)\u001b[0m\u001b[0;34m)\u001b[0m\u001b[0;34m:\u001b[0m\u001b[0;34m\u001b[0m\u001b[0;34m\u001b[0m\u001b[0m\n\u001b[0;32m---> 25\u001b[0;31m     \u001b[0mtranscriptions\u001b[0m\u001b[0;34m.\u001b[0m\u001b[0mappend\u001b[0m\u001b[0;34m(\u001b[0m\u001b[0mmodel\u001b[0m\u001b[0;34m.\u001b[0m\u001b[0mtranscribe\u001b[0m\u001b[0;34m(\u001b[0m\u001b[0mnew_names\u001b[0m\u001b[0;34m[\u001b[0m\u001b[0mname\u001b[0m\u001b[0;34m]\u001b[0m\u001b[0;34m)\u001b[0m\u001b[0;34m)\u001b[0m\u001b[0;34m\u001b[0m\u001b[0;34m\u001b[0m\u001b[0m\n\u001b[0m\u001b[1;32m     26\u001b[0m   \u001b[0;32mreturn\u001b[0m \u001b[0mtranscriptions\u001b[0m\u001b[0;34m\u001b[0m\u001b[0;34m\u001b[0m\u001b[0m\n\u001b[1;32m     27\u001b[0m \u001b[0;34m\u001b[0m\u001b[0m\n",
            "\u001b[0;32m/usr/local/lib/python3.8/dist-packages/whisper/transcribe.py\u001b[0m in \u001b[0;36mtranscribe\u001b[0;34m(model, audio, verbose, temperature, compression_ratio_threshold, logprob_threshold, no_speech_threshold, condition_on_previous_text, initial_prompt, **decode_options)\u001b[0m\n\u001b[1;32m     83\u001b[0m         \u001b[0mdecode_options\u001b[0m\u001b[0;34m[\u001b[0m\u001b[0;34m\"fp16\"\u001b[0m\u001b[0;34m]\u001b[0m \u001b[0;34m=\u001b[0m \u001b[0;32mFalse\u001b[0m\u001b[0;34m\u001b[0m\u001b[0;34m\u001b[0m\u001b[0m\n\u001b[1;32m     84\u001b[0m \u001b[0;34m\u001b[0m\u001b[0m\n\u001b[0;32m---> 85\u001b[0;31m     \u001b[0mmel\u001b[0m \u001b[0;34m=\u001b[0m \u001b[0mlog_mel_spectrogram\u001b[0m\u001b[0;34m(\u001b[0m\u001b[0maudio\u001b[0m\u001b[0;34m)\u001b[0m\u001b[0;34m\u001b[0m\u001b[0;34m\u001b[0m\u001b[0m\n\u001b[0m\u001b[1;32m     86\u001b[0m \u001b[0;34m\u001b[0m\u001b[0m\n\u001b[1;32m     87\u001b[0m     \u001b[0;32mif\u001b[0m \u001b[0mdecode_options\u001b[0m\u001b[0;34m.\u001b[0m\u001b[0mget\u001b[0m\u001b[0;34m(\u001b[0m\u001b[0;34m\"language\"\u001b[0m\u001b[0;34m,\u001b[0m \u001b[0;32mNone\u001b[0m\u001b[0;34m)\u001b[0m \u001b[0;32mis\u001b[0m \u001b[0;32mNone\u001b[0m\u001b[0;34m:\u001b[0m\u001b[0;34m\u001b[0m\u001b[0;34m\u001b[0m\u001b[0m\n",
            "\u001b[0;32m/usr/local/lib/python3.8/dist-packages/whisper/audio.py\u001b[0m in \u001b[0;36mlog_mel_spectrogram\u001b[0;34m(audio, n_mels)\u001b[0m\n\u001b[1;32m    109\u001b[0m     \u001b[0;32mif\u001b[0m \u001b[0;32mnot\u001b[0m \u001b[0mtorch\u001b[0m\u001b[0;34m.\u001b[0m\u001b[0mis_tensor\u001b[0m\u001b[0;34m(\u001b[0m\u001b[0maudio\u001b[0m\u001b[0;34m)\u001b[0m\u001b[0;34m:\u001b[0m\u001b[0;34m\u001b[0m\u001b[0;34m\u001b[0m\u001b[0m\n\u001b[1;32m    110\u001b[0m         \u001b[0;32mif\u001b[0m \u001b[0misinstance\u001b[0m\u001b[0;34m(\u001b[0m\u001b[0maudio\u001b[0m\u001b[0;34m,\u001b[0m \u001b[0mstr\u001b[0m\u001b[0;34m)\u001b[0m\u001b[0;34m:\u001b[0m\u001b[0;34m\u001b[0m\u001b[0;34m\u001b[0m\u001b[0m\n\u001b[0;32m--> 111\u001b[0;31m             \u001b[0maudio\u001b[0m \u001b[0;34m=\u001b[0m \u001b[0mload_audio\u001b[0m\u001b[0;34m(\u001b[0m\u001b[0maudio\u001b[0m\u001b[0;34m)\u001b[0m\u001b[0;34m\u001b[0m\u001b[0;34m\u001b[0m\u001b[0m\n\u001b[0m\u001b[1;32m    112\u001b[0m         \u001b[0maudio\u001b[0m \u001b[0;34m=\u001b[0m \u001b[0mtorch\u001b[0m\u001b[0;34m.\u001b[0m\u001b[0mfrom_numpy\u001b[0m\u001b[0;34m(\u001b[0m\u001b[0maudio\u001b[0m\u001b[0;34m)\u001b[0m\u001b[0;34m\u001b[0m\u001b[0;34m\u001b[0m\u001b[0m\n\u001b[1;32m    113\u001b[0m \u001b[0;34m\u001b[0m\u001b[0m\n",
            "\u001b[0;32m/usr/local/lib/python3.8/dist-packages/whisper/audio.py\u001b[0m in \u001b[0;36mload_audio\u001b[0;34m(file, sr)\u001b[0m\n\u001b[1;32m     45\u001b[0m         )\n\u001b[1;32m     46\u001b[0m     \u001b[0;32mexcept\u001b[0m \u001b[0mffmpeg\u001b[0m\u001b[0;34m.\u001b[0m\u001b[0mError\u001b[0m \u001b[0;32mas\u001b[0m \u001b[0me\u001b[0m\u001b[0;34m:\u001b[0m\u001b[0;34m\u001b[0m\u001b[0;34m\u001b[0m\u001b[0m\n\u001b[0;32m---> 47\u001b[0;31m         \u001b[0;32mraise\u001b[0m \u001b[0mRuntimeError\u001b[0m\u001b[0;34m(\u001b[0m\u001b[0;34mf\"Failed to load audio: {e.stderr.decode()}\"\u001b[0m\u001b[0;34m)\u001b[0m \u001b[0;32mfrom\u001b[0m \u001b[0me\u001b[0m\u001b[0;34m\u001b[0m\u001b[0;34m\u001b[0m\u001b[0m\n\u001b[0m\u001b[1;32m     48\u001b[0m \u001b[0;34m\u001b[0m\u001b[0m\n\u001b[1;32m     49\u001b[0m     \u001b[0;32mreturn\u001b[0m \u001b[0mnp\u001b[0m\u001b[0;34m.\u001b[0m\u001b[0mfrombuffer\u001b[0m\u001b[0;34m(\u001b[0m\u001b[0mout\u001b[0m\u001b[0;34m,\u001b[0m \u001b[0mnp\u001b[0m\u001b[0;34m.\u001b[0m\u001b[0mint16\u001b[0m\u001b[0;34m)\u001b[0m\u001b[0;34m.\u001b[0m\u001b[0mflatten\u001b[0m\u001b[0;34m(\u001b[0m\u001b[0;34m)\u001b[0m\u001b[0;34m.\u001b[0m\u001b[0mastype\u001b[0m\u001b[0;34m(\u001b[0m\u001b[0mnp\u001b[0m\u001b[0;34m.\u001b[0m\u001b[0mfloat32\u001b[0m\u001b[0;34m)\u001b[0m \u001b[0;34m/\u001b[0m \u001b[0;36m32768.0\u001b[0m\u001b[0;34m\u001b[0m\u001b[0;34m\u001b[0m\u001b[0m\n",
            "\u001b[0;31mRuntimeError\u001b[0m: Failed to load audio: ffmpeg version 4.2.7-0ubuntu0.1 Copyright (c) 2000-2022 the FFmpeg developers\n  built with gcc 9 (Ubuntu 9.4.0-1ubuntu1~20.04.1)\n  configuration: --prefix=/usr --extra-version=0ubuntu0.1 --toolchain=hardened --libdir=/usr/lib/x86_64-linux-gnu --incdir=/usr/include/x86_64-linux-gnu --arch=amd64 --enable-gpl --disable-stripping --enable-avresample --disable-filter=resample --enable-avisynth --enable-gnutls --enable-ladspa --enable-libaom --enable-libass --enable-libbluray --enable-libbs2b --enable-libcaca --enable-libcdio --enable-libcodec2 --enable-libflite --enable-libfontconfig --enable-libfreetype --enable-libfribidi --enable-libgme --enable-libgsm --enable-libjack --enable-libmp3lame --enable-libmysofa --enable-libopenjpeg --enable-libopenmpt --enable-libopus --enable-libpulse --enable-librsvg --enable-librubberband --enable-libshine --enable-libsnappy --enable-libsoxr --enable-libspeex --enable-libssh --enable-libtheora --enable-libtwolame --enable-libvidstab --enable-libvorbis --enable-libvpx --enable-libwavpack --enable-libwebp --enable-libx265 --enable-libxml2 --enable-libxvid --enable-libzmq --enable-libzvbi --enable-lv2 --enable-omx --enable-openal --enable-opencl --enable-opengl --enable-sdl2 --enable-libdc1394 --enable-libdrm --enable-libiec61883 --enable-nvenc --enable-chromaprint --enable-frei0r --enable-libx264 --enable-shared\n  libavutil      56. 31.100 / 56. 31.100\n  libavcodec     58. 54.100 / 58. 54.100\n  libavformat    58. 29.100 / 58. 29.100\n  libavdevice    58.  8.100 / 58.  8.100\n  libavfilter     7. 57.100 /  7. 57.100\n  libavresample   4.  0.  0 /  4.  0.  0\n  libswscale      5.  5.100 /  5.  5.100\n  libswresample   3.  5.100 /  3.  5.100\n  libpostproc    55.  5.100 / 55.  5.100\n'Audio-Sofia-Dozzis_.mp3': No such file or directory\n"
          ]
        }
      ]
    },
    {
      "cell_type": "code",
      "source": [
        "data = !ls\n",
        "data[0], data\n"
      ],
      "metadata": {
        "colab": {
          "base_uri": "https://localhost:8080/"
        },
        "id": "enyRweSZcT5g",
        "outputId": "7f384680-585f-4011-e842-60114897a47a"
      },
      "execution_count": 54,
      "outputs": [
        {
          "output_type": "execute_result",
          "data": {
            "text/plain": [
              "(\"'Audio Sofía Dozzis_.mp3'\", [\"'Audio Sofía Dozzis_.mp3'\"])"
            ]
          },
          "metadata": {},
          "execution_count": 54
        }
      ]
    },
    {
      "cell_type": "code",
      "source": [
        "import whisper\n",
        "# tiny, base, small medium or large\n",
        "model_size = \"small\"\n",
        "\n",
        "model = whisper.load_model(model_size)\n",
        "transcribed = []\n",
        "for file in range(len(data)):\n",
        "  # Change data name\n",
        "  audio = data[file].replace(\"'\", \"\")\n",
        "  # Transcribe audio\n",
        "  output = model.transcribe(audio)\n",
        "  # Store transcribed audio\n",
        "  transcribed.append(output)\n",
        "\n",
        "  # Write transcribed file. \n",
        "  with open(data[0].replace(\"'\", \"\").replace(\".mp3\", \".txt\"), 'w') as f: \n",
        "    f.write(transcribed[file][\"text\"])\n",
        "\n",
        "\n",
        "\n",
        "\n"
      ],
      "metadata": {
        "id": "TuMVf9dpimT0"
      },
      "execution_count": 73,
      "outputs": []
    },
    {
      "cell_type": "code",
      "source": [
        "data[0].replace(\"'\", \"\").replace(\".mp3\", \".txt\")"
      ],
      "metadata": {
        "colab": {
          "base_uri": "https://localhost:8080/",
          "height": 35
        },
        "id": "jFvtoJ7xkDeZ",
        "outputId": "84905da8-9f22-4432-9763-612fc019b70f"
      },
      "execution_count": 70,
      "outputs": [
        {
          "output_type": "execute_result",
          "data": {
            "text/plain": [
              "'Audio Sofía Dozzis_.txt'"
            ],
            "application/vnd.google.colaboratory.intrinsic+json": {
              "type": "string"
            }
          },
          "metadata": {},
          "execution_count": 70
        }
      ]
    },
    {
      "cell_type": "code",
      "source": [],
      "metadata": {
        "id": "AOheN-l8kDZd"
      },
      "execution_count": null,
      "outputs": []
    },
    {
      "cell_type": "code",
      "source": [
        "# Download files\n",
        "from google.colab import files\n",
        "\n",
        "transcribed_files = !ls | grep '.txt'\n",
        "for file in range(len(data)):\n",
        "  files.download(transcribed_files[file])"
      ],
      "metadata": {
        "colab": {
          "base_uri": "https://localhost:8080/",
          "height": 17
        },
        "id": "ysRrtMcTkDPB",
        "outputId": "ae258f2a-0616-4d57-a385-9506f5cdc6b6"
      },
      "execution_count": 81,
      "outputs": [
        {
          "output_type": "display_data",
          "data": {
            "text/plain": [
              "<IPython.core.display.Javascript object>"
            ],
            "application/javascript": [
              "\n",
              "    async function download(id, filename, size) {\n",
              "      if (!google.colab.kernel.accessAllowed) {\n",
              "        return;\n",
              "      }\n",
              "      const div = document.createElement('div');\n",
              "      const label = document.createElement('label');\n",
              "      label.textContent = `Downloading \"${filename}\": `;\n",
              "      div.appendChild(label);\n",
              "      const progress = document.createElement('progress');\n",
              "      progress.max = size;\n",
              "      div.appendChild(progress);\n",
              "      document.body.appendChild(div);\n",
              "\n",
              "      const buffers = [];\n",
              "      let downloaded = 0;\n",
              "\n",
              "      const channel = await google.colab.kernel.comms.open(id);\n",
              "      // Send a message to notify the kernel that we're ready.\n",
              "      channel.send({})\n",
              "\n",
              "      for await (const message of channel.messages) {\n",
              "        // Send a message to notify the kernel that we're ready.\n",
              "        channel.send({})\n",
              "        if (message.buffers) {\n",
              "          for (const buffer of message.buffers) {\n",
              "            buffers.push(buffer);\n",
              "            downloaded += buffer.byteLength;\n",
              "            progress.value = downloaded;\n",
              "          }\n",
              "        }\n",
              "      }\n",
              "      const blob = new Blob(buffers, {type: 'application/binary'});\n",
              "      const a = document.createElement('a');\n",
              "      a.href = window.URL.createObjectURL(blob);\n",
              "      a.download = filename;\n",
              "      div.appendChild(a);\n",
              "      a.click();\n",
              "      div.remove();\n",
              "    }\n",
              "  "
            ]
          },
          "metadata": {}
        },
        {
          "output_type": "display_data",
          "data": {
            "text/plain": [
              "<IPython.core.display.Javascript object>"
            ],
            "application/javascript": [
              "download(\"download_ed19e821-e59c-4eae-92b9-28eeb64dea23\", \"Audio Sof\\u00eda Dozzis_.txt\", 15529)"
            ]
          },
          "metadata": {}
        }
      ]
    },
    {
      "cell_type": "code",
      "source": [
        "print(result[\"text\"])"
      ],
      "metadata": {
        "id": "fo13qtSPkIUn",
        "outputId": "30a7bc6a-b92b-474b-9d58-6dd459874ff7",
        "colab": {
          "base_uri": "https://localhost:8080/"
        }
      },
      "execution_count": null,
      "outputs": [
        {
          "output_type": "stream",
          "name": "stdout",
          "text": [
            " Hola, Amajú, ¿cómo va la producción? Yo soy Sofía Mirta Donsis Sason, tengo 28 años, soy licenciada en administración de empresas, así que trabajo en una empresa en el sector de ventas. Mi teléfono es 116 107 55 20, no tengo Instagram, pero tengo Facebook, que es Sofía Donsis como mi apellido. Mi experiencia sexual afectiva más importante, yo estuve viviendo un año y un poco en Canarias, y bueno, ahí conocí a un chico, Canario, y bueno, fue muy fuerte lo que me pasó con él, él también estaba conmigo, nos conocimos, empezamos a salir, y bueno, duró a ver, ponerle de mayo a noviembre, es poco tiempo, pero bueno, fue como muy intenso todo lo que pasó en ese tiempo, y bueno, en realidad, como que terminó porque él no estaba en la misma sintonía que yo, era todo raro, yo estaba ahí viviendo transitoriamente en realidad, y él se iba a hacer un cuatrimestre de la facultad a Lituania, yo me volví a Argentina, y como que yo me recontra-enganché con él, o sea, como que él también, pero no, bueno, esas cositas. Bueno, no sé si podría contar él, porque en realidad, o sea, sí me enganché la primera vez, pero bueno, porque venía como de varios meses de hablar todos los días, entonces es como que en realidad uno no está enganchado desde la primera noche, pero bueno, podría contar eso. ¿Y qué es lo que no puede faltar en la primera cita? Conversación, claramente, o sea, si no tengo conversación con la persona, yo ya sé que todo el resto no va a funcionar, o sea, yo tengo que hablar y conectar como, no te digo intelectualmente, pero como, sí, a nivel, o sea, conversación con la persona. ¿Cómo están hoy los vínculos, cómo están las personas respecto a los vínculos? No, todo es rarísimo, es como que, o sea, por un lado, creo que todas las generaciones que vienen, no es que me la voy a dar de vieja, pero como que, toda la, no sé, yo veo a mi prima, a mis primos adolescentes, y es como que vienen con otra cabeza, como mucho más abiertos, más libres, más relajados. Por eso, o sea, si veo a esa generación es una cosa y ver a mi generación es otra, pero bueno, sí, está como todo muy raro, como que, no sé, por ejemplo, en mi caso, no sé, yo ya llego a los 30 años y ya no estoy para boludeces, o sea, no me banco cosas, no me banco cosas y se terminó, ya, no, siento que no es más como antes, que tipo uno es como bueno, a pesar de esto está todo lo otro, es como que hoy, ¿viste?, nadie se banca nada y por eso, como que hay en cierto punto tanta rotación, si quieres, entre comillas, de parejas, ¿no?, como que, lo mismo que con los laburos, que antes uno estaba laburando 30, 40 años en el mismo lugar y hoy cada dos, tres años te sale algo mejor y cambias, bueno, como que pasa lo mismo con las parejas. Bueno, ¿qué es lo que más me dolió de una relación?, como que siempre vuelvo a la misma, pero bueno, creo que fue como una de las más fuertes, en realidad creo que a veces como, las que no funcionan son como las más fuertes, ¿no? Pero bueno, sí, como un poco lo que me dolió fue eso, ¿no?, como que yo creer todo un tiempo que estaba en el mismo mood que yo, como sí reenganchado, reembalado, saliendo, hablando, quedando y todo y como que después me diga, ah, no, bueno, pero me parece que yo no estoy en el mismo plan que vos, hermano, o sea, yo no me inventé todo lo que pasó, pasó, fue real, o sea, bueno, una locura, yo me había ido de viaje a otra isla con mis amigas y el callo ahí, medio como a buscarme, fue casualidad, ponéles, o sea, cosas muy flasheras, como que en ese tiempo justo nos habíamos peleado y apareció ahí, nos reencontrábamos y todo y yo digo, ah, sí, o sea, que me decís que no, o sea, y bueno, nada, esta noche cuando cortamos, no, no, yo creo que no me acuerdo, o sea, no tengo registro de un día de haber llorado tanto, pero tanto, no sé, haber estado cuatro o cinco horas llorando sin parar, no, una locura. ¿Saldré con alguien con hijos? Sí, confirmado y he salido, pero sí, sí, re. ¿Una traición por dinero? No, no, y por amor tampoco, alguna boludez así, tipo, cuando era adolescente que yo salí con un pibe y es, ah, sí, bueno, iba a contar otra historia, pero sí, mi primer novio, cortamos, porque bueno, era una relación super tóxica, compartíamos los dos como el mismo ambiente todo y yo tenía una muy amiga mía que era amiga también de él, pero casi nada, y nosotros cortamos y se los empezaron a hacer cada vez más amigos, cada vez más amigos y yo le dije a mis amigas, acuérdense que estos dos van a terminar juntos, ay, no, pero para de ver películas, que decís, que flashera, no sé qué, quién tenía razón, mamá, al menos de un año que nosotros habíamos cortado ellos están juntos, o sea, no, una locura, o sea, porque bueno, vos decís por él ya está, o sea, habíamos cortado, pero la verdad es ya, o sea, eres mi amiga, hermana, no, un desastre, y me costó, me costó recuperarme de eso. He sido de víctima de bullying, sí, creo que bastante, siempre fui gordita y eso, viste, hoy obviamente cambió, pero cuando yo iba al colegio era otra la situación y nada, sí, mis compañeros así, el colegio y esas cosas, y hecho bullying, sí, creo que todos sí hacemos como una reflexión interna con nosotros mismos, aunque no haya sido intencional, lo hemos hecho, y es horrible, y me contrarrepiento y hoy, tipo, intento como concientizar mucho más todo, pero, tipo, desde que te burlas de cualquier pelotud de otra persona es hacer bullying, y es horrible. ¿Qué pienso cuando estoy en la ducha o en la ruta? Bueno, en la ducha en realidad pienso todo lo que tengo que hacer si llego, no sé qué, así que no me para la cabeza, o sea, como que no lo uso tanto como de reflexión, me baño bastante rápido, pero quizás sí en la ruta, viajando, o momentos sí como más de pausa, sí, pienso, yo creo más en mis sueños, en mis objetivos, en a dónde quiero llegar, en comida siempre estoy pensando, así que no cuenta como algo especial de reflexión, pero sí, sí, completamente como en mi futuro, mis proyectos, no sé, en qué quiero viajar y esas cosas. ¿Qué espero de una pareja? Mínimo, obviamente, respeto, sí, un compañero que tenga como, no tengo los mismos sueños o proyectos o objetivos que yo, pero que más o menos esté alineado, como que no sé, que yo me quiera ir a vivir a la China y el chabón quiera vivir en una carpa en la Amazonas, como más o menos que nuestro proyecto de vida coincida, no sé, desde que no sé, yo quiera tener hijos hasta que el otro no quiera. Y colmó mis expectativas, no sé si lo tengo, lo tengo, tomar como bien o como mal, o sea, como que colmó de que superó o que me pudrió, pero bueno, si es la segunda, sí, sí, con mi segunda pareja fue como que ya está, hasta acá llegué y me cansé. ¿Cuándo alguien te gusta, se aleja, sos de hacer una revisión interna y intentas...? Me cuesta bastante ser autocrítica, no voy a mentir. No siempre dejo la responsabilidad del otro lado al cien, pero me cuesta mucho como cambiar de, como si creo que tengo razón, dar el brazo a torcer, me cuesta bastante. No soy amiga de mis ex, o sea, con el segundo nos ayudamos para los cumples y porque quedó todo bien, pero no soy amiga y no, no he vuelto a acostarme con mis ex. Amo la soledad, si bien me cuesta bastante como realmente no hacer nada y aprovechar y tener tiempo para pensar y para encontrarme conmigo, me encanta estar sola. ¿Qué hago desde, no sé, descansar, leer, mirar una serie, caminar, escuchar música? O sea, me encanta, me encanta estar sola. Que yo sepa no me han engañado, pero eso puede no saberse nunca, y sí, enganié, enganié. Bueno, una pareja ya estaba bastante como cansada, me estaba por separar prácticamente y bueno, y tenía como mucha onda con un profesor del colegio, no que desastre de la facultad. Hacía rato, de hecho había empezado a tener onda con el profesor, antes de ponerme de novia, me pongo de novia, bueno, pasan dos años y bueno, o sea siempre había como esa cosita con él y nunca ha pasado nada, obviamente, porque estaba de novia y bueno, finalmente pasó, pasó y bueno, nada. Hoy ese profe es muy amigo mío, lo adoro, ha seguido como la relación sexual bastantes años, te voy a decir, después de eso, o sea yo después de ese acto de engaño, digamos, me separo, no empecé a salir con el profe, pero sí nos veíamos y nada, nos adoramos, pero no fue más que eso y ya terminó también eso. Sí, tendría una pareja abierta, creo que me costaría bastante, pero creo que sí, que estaría bueno. Y porque, no sé, me cuesta bastante creer en la monogamia honestamente, si bien siempre mis parejas han sido monogámicas, es como que todavía, no sé, como que digo, pero no sé, es raro, como que está bien. Fueron monogamias transitorias porque no es que me puse con una persona y me voy a morir con esa misma persona, porque he tenido varias parejas, pero como que digo, loco, yo hoy me engancho con alguien y me voy a morir con esa misma persona, acostándome con esa misma persona, porque está bien. Yo creo que uno a veces, tipo, una pareja la elige para compartir su vida y si querés hacer como una vida más tradicional de bueno, no te digo, casarte, pero bueno, voy a convivir con esa persona, voy a formar una familia, voy a tener hijos, que soy yo, pero es como que a lo mejor te pinta acostarte con otra, que en realidad no hay amor, no hay sentimientos, no hay nada y es solo por el hecho del placer y del disfrute y es como decir, pero ¿por qué no puedo hacer esto? tipo, no estoy castrada. Pero bueno, también no sé, es difícil, o sea, si bien lo entiendo cognitivamente, no sé si podría, o sea, me gustaría, tipo, para mí que yo pueda hacer eso, pero no sé si podría soportar que mi pareja hiciera lo mismo, entonces no es justo, ¿no? Y además, bueno, como que nunca tampoco se me presentó la oportunidad de estar con una persona que tenga como la misma cabeza de tener una pareja abierta, ¿no? ¿Qué no soporta una persona? No sé, varias cosas, cada vez me pongo más grande si no soporto nada de nadie, pero sí, no sé, la mentira o no sé, la, como la, no es la madurez, pero sino como la falta de acción, como la gente muy quedada, pero no, creo que no, dejé de ver a alguien por eso, creo que las cosas se fueron como disolviendo si no funcionaban por algo, ¿no? ¿Cómo soy con los límites? Maso, algunos los puedo poner y con algunas personas y otros no, pero sí, sí suelo como hablar bastante de lo que quiero y de lo que no me pinta, sí, como que trato de dejarlo bastante claro eso. Mi momento más triste, si es respecto a las relaciones, es cuando corté esa relación de Canarias claramente, de la angustia, hoy obviamente como que no sé si lo vivo tan así, pero en su momento fue algo terrible para mí. Y mi momento más feliz, sí, yo creo que cuando hice ese viaje, me fui de intercambio con la facultad a estudiar allá y fue algo que me cambió la vida claramente. Yo tenía 25, sí, 25, todavía no había cumplido los 26 creo, y nada, viví acá con mi mamá, con mi hermana, o sea, toda la vida como siempre igual, y de repente me fui allá a vivir sola, otra experiencia, fue una locura. Seis palabras de mi infancia. Difícil. Separación, separar a mis papás. Difícil. Lucha. Angustia, felicidad y amor. ¿Cuál es la emoción negativa que más me preocupa? El enojo, el enojo, me enojo mucho. No, no, nunca perdí el control sobre mí misma por suerte. ¿A quién admiro en la vida y por qué? A mi madre, parece re cliché, ¿no? Pero bueno, pasó cosas personales de adolescente muy difíciles, la superó, salió adelante, toda una familia. Se separó de un tipo bastante complicado, mi padre, violencia psicológica, un montón de cosas, quedó casi en la lona, y la peleó, la luchó para darnos lo mejor, para que estudiemos, para que cambie la situación en la que estábamos y realmente lo logró. Así que la admiro por eso, por su fuerza, por su valentía, porque obviamente gracias a que ella hizo eso, hoy yo soy quien soy, sino yo no sería esta, claramente. Lo físico, conectar con alguien, o sea, me importa muy poco lo físico, como dije al principio de todo, mi conexión va desde otro lugar con la persona. O sea, sí, quizás soy un poco extremista, pero como que, bueno, no sé, que tenga todos los dientes, ese mínimo requisito. Después el resto del peso, la altura, color de ojos, todo, me importa muy poco. Y yo con mi imagen soy bastante autoexigente, sí, recontra complejada, porque siempre fui gordita para lo que es el estándar de la sociedad, en Argentina más o menos la más gorda estaría pesando 48 kilos, entonces, claro, o sea, como que nunca encajé en los estándares. Pero bueno, o sea, si bien me recontra acepto como soy, soy exigente en el sentido de que, bueno, siempre quiero algazar, me quiero cuidar y toda la bola, y al final es como un estrés, ¿no? Pero eso. Mi cita ideal, creo que la tuve, un picnic frente al mar, con eso suficiente. Y sí, me pasó, me pasó que una vez, en realidad, no fue un llamado, o sea, cuando yo estuve viviendo allá en España, que fue la época del COVID, a mi abuelo le agarró COVID, lo internaron y estuvo como 7-8 meses internado, bueno, esto podría contar también como una de las cosas más tristes si no tiene que ver con las parejas, porque dije mi ruptura, pero creo que esto también cuenta. Y yo estaba en una cita así, muy tranquila igual, en la playa, con él, y nada, mi abuelo se moría, básicamente. En realidad, se me afectaba a mí, pero bueno, obviamente también a toda mi familia que estaba allá, yo estaba sola en España y acá estaban todos. Y, no sé, fue terrible. Por suerte, esta persona me acompañó muchísimo en todo este tiempo que mi abuelo estuvo así. Pero nada, si me llaman también por otra persona, es como que no, no, yo tipo por los míos, como que dejo todo, como que no, no sé, veo. Si lo puedo resolver desde ahí y acompañar a la persona desde la cita, joya, si me tengo que ir porque es una situación grave, yo lo siento, te llamo mañana y arreglamos de nuevo, pero no. O sea, si alguien, un amigo, mi familia, alguien está mal, no, corro por esa persona. O sea, si me llama Rari, no sé si atiendo, tipo le mando un mensaje, onda, che, no puedo, ¿qué pasó? ¿pasó algo? Pero si me escribe, nada, respondo. O sea, yo cuando suelo estar con una persona, ya sea una cita de pareja o un encuentro con una amiga, como que me digo que intento que no usar el teléfono. O sea, como que no sé si estaría viendo justo ese mensaje, a lo mejor la llamada sí me corta, pero si me mando un mensaje quizás la veo dos, tres horas después, cuando vuelvo de la cita o en algún hueco que mira el teléfono. Pero bueno, nada, respondo, a ver, es mi primera cita, no tengo ni idea cómo avanzar esto y tipo si ya un chabón con el que salí o estuve o me gusta todo, o sea, no hay que poner todos los huevos en la misma canasta, dicen, ¿no? Soy de clare el visto muy poco, soy muy poco, o sea, respondo siempre bastante al momento mientras pueda, pero como que nunca es que te respondo, tipo tres días después. Y las veces que he clavado visto fue porque fueron necesarias, gente que ya se le explicó que basta, que hasta acá llegué, que se terminó y como siguen y es como, bueno, basta, mano. Y un lugar en el mundo, Canarias, perdón por la longitud.\n"
          ]
        }
      ]
    }
  ],
  "metadata": {
    "accelerator": "GPU",
    "colab": {
      "provenance": [],
      "include_colab_link": true
    },
    "gpuClass": "standard",
    "kernelspec": {
      "display_name": "Python 3 (ipykernel)",
      "language": "python",
      "name": "python3"
    },
    "language_info": {
      "codemirror_mode": {
        "name": "ipython",
        "version": 3
      },
      "file_extension": ".py",
      "mimetype": "text/x-python",
      "name": "python",
      "nbconvert_exporter": "python",
      "pygments_lexer": "ipython3",
      "version": "3.9.9"
    }
  },
  "nbformat": 4,
  "nbformat_minor": 0
}